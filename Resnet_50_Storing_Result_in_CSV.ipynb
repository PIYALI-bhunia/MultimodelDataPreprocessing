{
  "nbformat": 4,
  "nbformat_minor": 0,
  "metadata": {
    "colab": {
      "name": "Resnet-50_Storing_Result_in_CSV.ipynb",
      "provenance": [],
      "authorship_tag": "ABX9TyMmYFd53pcpeKr+xlZQ3zLf",
      "include_colab_link": true
    },
    "kernelspec": {
      "name": "python3",
      "display_name": "Python 3"
    },
    "language_info": {
      "name": "python"
    },
    "accelerator": "GPU"
  },
  "cells": [
    {
      "cell_type": "markdown",
      "metadata": {
        "id": "view-in-github",
        "colab_type": "text"
      },
      "source": [
        "<a href=\"https://colab.research.google.com/github/PIYALI-bhunia/MultimodelDataPreprocessing/blob/main/Resnet_50_Storing_Result_in_CSV.ipynb\" target=\"_parent\"><img src=\"https://colab.research.google.com/assets/colab-badge.svg\" alt=\"Open In Colab\"/></a>"
      ]
    },
    {
      "cell_type": "markdown",
      "source": [
        "##Import necessary modules"
      ],
      "metadata": {
        "id": "xzwEOMpMf9qZ"
      }
    },
    {
      "cell_type": "code",
      "execution_count": 1,
      "metadata": {
        "id": "jq0K1a_LWvE9"
      },
      "outputs": [],
      "source": [
        "import os\n",
        "import cv2\n",
        "import numpy as np\n",
        "import pandas as pd\n",
        "import tensorflow as tf\n",
        "from tensorflow import keras\n",
        "import pathlib\n",
        "from keras.models import Sequential\n",
        "from keras.layers import Dense, Activation, Flatten\n",
        "from tensorflow.keras.optimizers import Adam, Adamax\n",
        "from tensorflow.keras.metrics import categorical_crossentropy\n",
        "from tensorflow.keras import regularizers\n",
        "from tensorflow.keras.models import Model, load_model\n",
        "from sklearn.model_selection import train_test_split\n",
        "from sklearn.metrics import confusion_matrix, classification_report"
      ]
    },
    {
      "cell_type": "code",
      "source": [
        "from google.colab import drive\n",
        "drive.mount('/content/drive')"
      ],
      "metadata": {
        "colab": {
          "base_uri": "https://localhost:8080/"
        },
        "id": "hN1QRfMuWyh7",
        "outputId": "c322fcd9-8d2c-41be-f10b-03c05053c773"
      },
      "execution_count": 2,
      "outputs": [
        {
          "output_type": "stream",
          "name": "stdout",
          "text": [
            "Mounted at /content/drive\n"
          ]
        }
      ]
    },
    {
      "cell_type": "markdown",
      "source": [
        "##Load the dataset"
      ],
      "metadata": {
        "id": "BkpRsDAzgWlt"
      }
    },
    {
      "cell_type": "code",
      "source": [
        "data_root = pathlib.Path('/content/drive/MyDrive/Tobacco3482-jpg')\n",
        "\n",
        "print(data_root)\n",
        "for item in data_root.iterdir():\n",
        "  print(item)"
      ],
      "metadata": {
        "colab": {
          "base_uri": "https://localhost:8080/"
        },
        "id": "div0KOOPXRrQ",
        "outputId": "f6beb20f-7277-43cf-a37a-ea2f86c75420"
      },
      "execution_count": 3,
      "outputs": [
        {
          "output_type": "stream",
          "name": "stdout",
          "text": [
            "/content/drive/MyDrive/Tobacco3482-jpg\n",
            "/content/drive/MyDrive/Tobacco3482-jpg/Letter\n",
            "/content/drive/MyDrive/Tobacco3482-jpg/Tobacco3482-jpg\n",
            "/content/drive/MyDrive/Tobacco3482-jpg/Scientific\n",
            "/content/drive/MyDrive/Tobacco3482-jpg/Memo\n",
            "/content/drive/MyDrive/Tobacco3482-jpg/Note\n",
            "/content/drive/MyDrive/Tobacco3482-jpg/Report\n",
            "/content/drive/MyDrive/Tobacco3482-jpg/News\n",
            "/content/drive/MyDrive/Tobacco3482-jpg/Email\n",
            "/content/drive/MyDrive/Tobacco3482-jpg/Form\n",
            "/content/drive/MyDrive/Tobacco3482-jpg/Resume\n",
            "/content/drive/MyDrive/Tobacco3482-jpg/ADVE\n"
          ]
        }
      ]
    },
    {
      "cell_type": "code",
      "source": [
        "def get_file_paths_and_labels(data_root):\n",
        "     img_paths = [str(path) for path in data_root.glob('*/*.jpg')]\n",
        "     labels = [p.split(\"/\")[-2] for p in img_paths]\n",
        "     return img_paths, labels\n",
        "\n",
        "img_paths, labels = get_file_paths_and_labels(data_root)\n",
        "# print(img_paths)\n",
        "# print(labels)\n",
        "print(len(img_paths))\n",
        "print(len(labels))"
      ],
      "metadata": {
        "colab": {
          "base_uri": "https://localhost:8080/"
        },
        "id": "Q-LLlXtIXRu5",
        "outputId": "f64f18f8-1fb9-43f8-f929-fbbed5f6e62e"
      },
      "execution_count": 4,
      "outputs": [
        {
          "output_type": "stream",
          "name": "stdout",
          "text": [
            "3482\n",
            "3482\n"
          ]
        }
      ]
    },
    {
      "cell_type": "markdown",
      "source": [
        "##Create the dataframe"
      ],
      "metadata": {
        "id": "ktDaZq2ggecN"
      }
    },
    {
      "cell_type": "code",
      "source": [
        "df = pd.DataFrame(list(zip(img_paths, labels)),\n",
        "               columns =['image_path', 'data_label'])\n",
        "df.head()"
      ],
      "metadata": {
        "colab": {
          "base_uri": "https://localhost:8080/",
          "height": 206
        },
        "id": "2SxLcFLjXRxS",
        "outputId": "0864f5f9-44ff-4107-ef0e-04b84a2c6dd8"
      },
      "execution_count": 5,
      "outputs": [
        {
          "output_type": "execute_result",
          "data": {
            "text/plain": [
              "                                          image_path data_label\n",
              "0  /content/drive/MyDrive/Tobacco3482-jpg/Letter/...     Letter\n",
              "1  /content/drive/MyDrive/Tobacco3482-jpg/Letter/...     Letter\n",
              "2  /content/drive/MyDrive/Tobacco3482-jpg/Letter/...     Letter\n",
              "3  /content/drive/MyDrive/Tobacco3482-jpg/Letter/...     Letter\n",
              "4  /content/drive/MyDrive/Tobacco3482-jpg/Letter/...     Letter"
            ],
            "text/html": [
              "\n",
              "  <div id=\"df-ae2b4926-2afc-4e08-a5e9-423083e5d80c\">\n",
              "    <div class=\"colab-df-container\">\n",
              "      <div>\n",
              "<style scoped>\n",
              "    .dataframe tbody tr th:only-of-type {\n",
              "        vertical-align: middle;\n",
              "    }\n",
              "\n",
              "    .dataframe tbody tr th {\n",
              "        vertical-align: top;\n",
              "    }\n",
              "\n",
              "    .dataframe thead th {\n",
              "        text-align: right;\n",
              "    }\n",
              "</style>\n",
              "<table border=\"1\" class=\"dataframe\">\n",
              "  <thead>\n",
              "    <tr style=\"text-align: right;\">\n",
              "      <th></th>\n",
              "      <th>image_path</th>\n",
              "      <th>data_label</th>\n",
              "    </tr>\n",
              "  </thead>\n",
              "  <tbody>\n",
              "    <tr>\n",
              "      <th>0</th>\n",
              "      <td>/content/drive/MyDrive/Tobacco3482-jpg/Letter/...</td>\n",
              "      <td>Letter</td>\n",
              "    </tr>\n",
              "    <tr>\n",
              "      <th>1</th>\n",
              "      <td>/content/drive/MyDrive/Tobacco3482-jpg/Letter/...</td>\n",
              "      <td>Letter</td>\n",
              "    </tr>\n",
              "    <tr>\n",
              "      <th>2</th>\n",
              "      <td>/content/drive/MyDrive/Tobacco3482-jpg/Letter/...</td>\n",
              "      <td>Letter</td>\n",
              "    </tr>\n",
              "    <tr>\n",
              "      <th>3</th>\n",
              "      <td>/content/drive/MyDrive/Tobacco3482-jpg/Letter/...</td>\n",
              "      <td>Letter</td>\n",
              "    </tr>\n",
              "    <tr>\n",
              "      <th>4</th>\n",
              "      <td>/content/drive/MyDrive/Tobacco3482-jpg/Letter/...</td>\n",
              "      <td>Letter</td>\n",
              "    </tr>\n",
              "  </tbody>\n",
              "</table>\n",
              "</div>\n",
              "      <button class=\"colab-df-convert\" onclick=\"convertToInteractive('df-ae2b4926-2afc-4e08-a5e9-423083e5d80c')\"\n",
              "              title=\"Convert this dataframe to an interactive table.\"\n",
              "              style=\"display:none;\">\n",
              "        \n",
              "  <svg xmlns=\"http://www.w3.org/2000/svg\" height=\"24px\"viewBox=\"0 0 24 24\"\n",
              "       width=\"24px\">\n",
              "    <path d=\"M0 0h24v24H0V0z\" fill=\"none\"/>\n",
              "    <path d=\"M18.56 5.44l.94 2.06.94-2.06 2.06-.94-2.06-.94-.94-2.06-.94 2.06-2.06.94zm-11 1L8.5 8.5l.94-2.06 2.06-.94-2.06-.94L8.5 2.5l-.94 2.06-2.06.94zm10 10l.94 2.06.94-2.06 2.06-.94-2.06-.94-.94-2.06-.94 2.06-2.06.94z\"/><path d=\"M17.41 7.96l-1.37-1.37c-.4-.4-.92-.59-1.43-.59-.52 0-1.04.2-1.43.59L10.3 9.45l-7.72 7.72c-.78.78-.78 2.05 0 2.83L4 21.41c.39.39.9.59 1.41.59.51 0 1.02-.2 1.41-.59l7.78-7.78 2.81-2.81c.8-.78.8-2.07 0-2.86zM5.41 20L4 18.59l7.72-7.72 1.47 1.35L5.41 20z\"/>\n",
              "  </svg>\n",
              "      </button>\n",
              "      \n",
              "  <style>\n",
              "    .colab-df-container {\n",
              "      display:flex;\n",
              "      flex-wrap:wrap;\n",
              "      gap: 12px;\n",
              "    }\n",
              "\n",
              "    .colab-df-convert {\n",
              "      background-color: #E8F0FE;\n",
              "      border: none;\n",
              "      border-radius: 50%;\n",
              "      cursor: pointer;\n",
              "      display: none;\n",
              "      fill: #1967D2;\n",
              "      height: 32px;\n",
              "      padding: 0 0 0 0;\n",
              "      width: 32px;\n",
              "    }\n",
              "\n",
              "    .colab-df-convert:hover {\n",
              "      background-color: #E2EBFA;\n",
              "      box-shadow: 0px 1px 2px rgba(60, 64, 67, 0.3), 0px 1px 3px 1px rgba(60, 64, 67, 0.15);\n",
              "      fill: #174EA6;\n",
              "    }\n",
              "\n",
              "    [theme=dark] .colab-df-convert {\n",
              "      background-color: #3B4455;\n",
              "      fill: #D2E3FC;\n",
              "    }\n",
              "\n",
              "    [theme=dark] .colab-df-convert:hover {\n",
              "      background-color: #434B5C;\n",
              "      box-shadow: 0px 1px 3px 1px rgba(0, 0, 0, 0.15);\n",
              "      filter: drop-shadow(0px 1px 2px rgba(0, 0, 0, 0.3));\n",
              "      fill: #FFFFFF;\n",
              "    }\n",
              "  </style>\n",
              "\n",
              "      <script>\n",
              "        const buttonEl =\n",
              "          document.querySelector('#df-ae2b4926-2afc-4e08-a5e9-423083e5d80c button.colab-df-convert');\n",
              "        buttonEl.style.display =\n",
              "          google.colab.kernel.accessAllowed ? 'block' : 'none';\n",
              "\n",
              "        async function convertToInteractive(key) {\n",
              "          const element = document.querySelector('#df-ae2b4926-2afc-4e08-a5e9-423083e5d80c');\n",
              "          const dataTable =\n",
              "            await google.colab.kernel.invokeFunction('convertToInteractive',\n",
              "                                                     [key], {});\n",
              "          if (!dataTable) return;\n",
              "\n",
              "          const docLinkHtml = 'Like what you see? Visit the ' +\n",
              "            '<a target=\"_blank\" href=https://colab.research.google.com/notebooks/data_table.ipynb>data table notebook</a>'\n",
              "            + ' to learn more about interactive tables.';\n",
              "          element.innerHTML = '';\n",
              "          dataTable['output_type'] = 'display_data';\n",
              "          await google.colab.output.renderOutput(dataTable, element);\n",
              "          const docLink = document.createElement('div');\n",
              "          docLink.innerHTML = docLinkHtml;\n",
              "          element.appendChild(docLink);\n",
              "        }\n",
              "      </script>\n",
              "    </div>\n",
              "  </div>\n",
              "  "
            ]
          },
          "metadata": {},
          "execution_count": 5
        }
      ]
    },
    {
      "cell_type": "code",
      "source": [
        "balance=df['data_label'].value_counts()\n",
        "print (balance)"
      ],
      "metadata": {
        "colab": {
          "base_uri": "https://localhost:8080/"
        },
        "id": "o28iXSmnXRz6",
        "outputId": "80b4341a-b557-4f01-baf2-dbd9629df49c"
      },
      "execution_count": 6,
      "outputs": [
        {
          "output_type": "stream",
          "name": "stdout",
          "text": [
            "Memo          620\n",
            "Email         599\n",
            "Letter        567\n",
            "Form          431\n",
            "Report        265\n",
            "Scientific    261\n",
            "ADVE          230\n",
            "Note          201\n",
            "News          188\n",
            "Resume        120\n",
            "Name: data_label, dtype: int64\n"
          ]
        }
      ]
    },
    {
      "cell_type": "markdown",
      "source": [
        "##Split the dataframe into train , test and validation"
      ],
      "metadata": {
        "id": "3gDZ5jg7gmta"
      }
    },
    {
      "cell_type": "code",
      "source": [
        "train_df, dummy_df=train_test_split(df, test_size=0.3, shuffle=True,random_state=0)\n",
        "test_df, valid_df= train_test_split(dummy_df, test_size=0.5, shuffle=True, random_state=0)\n",
        "print (f\"train size: {len(train_df)} test size: {len(test_df)}  valid size: {len(valid_df)}\")\n",
        "length=len(test_df)"
      ],
      "metadata": {
        "colab": {
          "base_uri": "https://localhost:8080/"
        },
        "id": "e-6QNCf6XR2A",
        "outputId": "7091980c-031b-4ff7-a5cb-4fd50d2b5af8"
      },
      "execution_count": 7,
      "outputs": [
        {
          "output_type": "stream",
          "name": "stdout",
          "text": [
            "train size: 2437 test size: 522  valid size: 523\n"
          ]
        }
      ]
    },
    {
      "cell_type": "markdown",
      "source": [
        "##Image data generator"
      ],
      "metadata": {
        "id": "A7H3PGthgs41"
      }
    },
    {
      "cell_type": "code",
      "source": [
        "batch_size=32\n",
        "seed_value = 42\n",
        "def scalar(x):\n",
        "    return x/127.5-1 # rescales pixels to range -1 to +1\n",
        "\n",
        "trgen=tf.keras.preprocessing.image.ImageDataGenerator(preprocessing_function=scalar)\n",
        "\n",
        "train_gen=trgen.flow_from_dataframe(train_df, x_col='image_path', y_col='data_label', target_size=(224,224), class_mode='categorical',batch_size=batch_size, shuffle=True, seed=seed_value)\n",
        "\n",
        "tvgen=tf.keras.preprocessing.image.ImageDataGenerator(preprocessing_function=scalar)\n",
        "\n",
        "valid_gen=tvgen.flow_from_dataframe(valid_df, x_col='image_path', y_col='data_label', target_size=(224,224), class_mode='categorical',batch_size=batch_size, shuffle=False, seed=seed_value)\n",
        "\n",
        "# determine test generator batch size and steps to go through the test set exactly once for predictions\n",
        "test_batch_size=sorted([int(length/n) for n in range(1,length+1) if length % n ==0 and length/n<=batch_size],reverse=True)[0]  \n",
        "\n",
        "test_steps=int(length/test_batch_size)\n",
        "\n",
        "test_gen=tvgen.flow_from_dataframe(test_df, x_col='image_path', y_col='data_label', target_size=(224,224), class_mode='categorical',batch_size=test_batch_size, shuffle=False, seed=seed_value)\n",
        "\n",
        "test_labels=test_gen.labels"
      ],
      "metadata": {
        "colab": {
          "base_uri": "https://localhost:8080/"
        },
        "id": "oGkP2W8LYOFp",
        "outputId": "e3acb231-3224-48a5-8ca8-3939ffcb5de1"
      },
      "execution_count": 8,
      "outputs": [
        {
          "output_type": "stream",
          "name": "stdout",
          "text": [
            "Found 2437 validated image filenames belonging to 10 classes.\n",
            "Found 523 validated image filenames belonging to 10 classes.\n",
            "Found 522 validated image filenames belonging to 10 classes.\n"
          ]
        }
      ]
    },
    {
      "cell_type": "markdown",
      "source": [
        "##Transfer learning model creation using ResNet-50 as base model"
      ],
      "metadata": {
        "id": "ZqEhSM_YgznM"
      }
    },
    {
      "cell_type": "code",
      "source": [
        "img_shape=(224,224,3)\n",
        "class_count = len(set(df['data_label']))\n",
        "dropout=0.2\n",
        "lr= 0.001\n",
        "seed_value = 42\n",
        "\n",
        "\n",
        "base_model= tf.keras.applications.ResNet50(include_top=False,\n",
        "                   input_shape=(224,224,3),\n",
        "                   pooling='avg',classes=10,\n",
        "                   weights='imagenet')\n",
        "\n",
        "base_model.trainable=False\n",
        "\n",
        "inputs = keras.Input(shape=img_shape)\n",
        "x = base_model(inputs, training=False)\n",
        "\n",
        "# x=tf.keras.layers.Dropout(rate=dropout, seed=seed_value)(x)\n",
        "x =tf.keras.layers.Dense(2048, kernel_regularizer = regularizers.l2(l = 0.016),activity_regularizer=regularizers.l1(0.006), bias_regularizer=regularizers.l1(0.006) ,activation='relu', kernel_initializer= tf.keras.initializers.GlorotUniform(seed=seed_value))(x)\n",
        "# x=tf.keras.layers.Dropout(rate=dropout, seed=seed_value)(x)\n",
        "outputs=tf.keras.layers.Dense(class_count, activation='softmax',kernel_initializer=tf.keras.initializers.GlorotUniform(seed=seed_value))(x)\n",
        "model=Model(inputs, outputs)\n",
        "\n",
        "model.compile(Adamax(learning_rate=lr), loss='categorical_crossentropy', metrics=['accuracy'])"
      ],
      "metadata": {
        "colab": {
          "base_uri": "https://localhost:8080/"
        },
        "id": "LXMwSZcGYOIm",
        "outputId": "fb00dce6-1ba6-4903-d668-c0401cf2d888"
      },
      "execution_count": 9,
      "outputs": [
        {
          "output_type": "stream",
          "name": "stdout",
          "text": [
            "Downloading data from https://storage.googleapis.com/tensorflow/keras-applications/resnet/resnet50_weights_tf_dim_ordering_tf_kernels_notop.h5\n",
            "94773248/94765736 [==============================] - 0s 0us/step\n",
            "94781440/94765736 [==============================] - 0s 0us/step\n"
          ]
        }
      ]
    },
    {
      "cell_type": "code",
      "source": [
        "model.summary()"
      ],
      "metadata": {
        "colab": {
          "base_uri": "https://localhost:8080/"
        },
        "id": "Nab4XZEVYgZg",
        "outputId": "e22facca-3e99-4e58-e667-60bb16000a11"
      },
      "execution_count": 10,
      "outputs": [
        {
          "output_type": "stream",
          "name": "stdout",
          "text": [
            "Model: \"model\"\n",
            "_________________________________________________________________\n",
            " Layer (type)                Output Shape              Param #   \n",
            "=================================================================\n",
            " input_2 (InputLayer)        [(None, 224, 224, 3)]     0         \n",
            "                                                                 \n",
            " resnet50 (Functional)       (None, 2048)              23587712  \n",
            "                                                                 \n",
            " dense (Dense)               (None, 2048)              4196352   \n",
            "                                                                 \n",
            " dense_1 (Dense)             (None, 10)                20490     \n",
            "                                                                 \n",
            "=================================================================\n",
            "Total params: 27,804,554\n",
            "Trainable params: 4,216,842\n",
            "Non-trainable params: 23,587,712\n",
            "_________________________________________________________________\n"
          ]
        }
      ]
    },
    {
      "cell_type": "code",
      "source": [
        "y_true=test_gen.classes\n",
        "print(y_true)"
      ],
      "metadata": {
        "colab": {
          "base_uri": "https://localhost:8080/"
        },
        "id": "s5JwI1ByYgcb",
        "outputId": "f1817707-a252-4c6e-99ab-e2af35bc8d4d"
      },
      "execution_count": 11,
      "outputs": [
        {
          "output_type": "stream",
          "name": "stdout",
          "text": [
            "[1, 1, 3, 4, 5, 3, 4, 4, 1, 1, 0, 1, 6, 7, 3, 1, 3, 2, 1, 1, 9, 2, 1, 4, 4, 0, 2, 1, 4, 7, 0, 0, 7, 4, 1, 3, 4, 1, 3, 1, 4, 9, 1, 0, 4, 2, 2, 0, 3, 3, 1, 3, 3, 4, 4, 5, 6, 2, 3, 7, 0, 0, 2, 1, 4, 4, 3, 3, 9, 7, 2, 9, 4, 8, 3, 1, 7, 5, 4, 1, 4, 1, 0, 1, 3, 8, 6, 3, 4, 0, 9, 6, 2, 0, 4, 1, 3, 6, 6, 3, 0, 1, 4, 9, 9, 2, 7, 2, 2, 1, 0, 6, 4, 3, 1, 9, 5, 1, 5, 1, 0, 6, 3, 5, 0, 4, 9, 5, 5, 4, 6, 6, 7, 4, 3, 5, 2, 4, 4, 9, 4, 4, 8, 2, 4, 0, 1, 1, 1, 3, 1, 2, 1, 3, 0, 2, 4, 4, 4, 6, 2, 3, 4, 4, 6, 4, 1, 9, 1, 3, 4, 9, 1, 4, 1, 4, 2, 3, 9, 2, 3, 9, 5, 8, 3, 2, 0, 0, 2, 3, 6, 9, 4, 4, 9, 2, 3, 2, 2, 6, 1, 4, 2, 9, 9, 8, 3, 2, 1, 3, 0, 1, 3, 7, 4, 8, 3, 9, 5, 2, 1, 0, 4, 3, 4, 3, 1, 3, 4, 6, 4, 3, 7, 6, 3, 3, 2, 2, 6, 4, 4, 4, 2, 4, 4, 6, 1, 5, 1, 1, 3, 8, 7, 2, 3, 1, 3, 6, 1, 4, 3, 7, 4, 4, 9, 5, 9, 4, 3, 3, 6, 1, 2, 4, 0, 2, 7, 4, 7, 3, 4, 3, 4, 5, 2, 6, 9, 2, 2, 4, 1, 4, 3, 1, 7, 8, 4, 1, 2, 7, 4, 6, 6, 0, 1, 1, 3, 1, 3, 1, 6, 4, 1, 4, 7, 7, 3, 5, 4, 4, 4, 1, 1, 4, 0, 2, 9, 3, 4, 6, 3, 1, 3, 0, 3, 4, 2, 1, 2, 3, 3, 3, 3, 8, 2, 5, 5, 2, 4, 9, 3, 7, 1, 1, 1, 8, 4, 4, 6, 3, 9, 2, 9, 1, 0, 2, 7, 4, 2, 9, 2, 1, 9, 1, 4, 2, 8, 3, 4, 9, 4, 9, 4, 2, 4, 3, 2, 1, 1, 3, 7, 9, 7, 1, 3, 4, 6, 4, 4, 3, 0, 4, 6, 8, 0, 7, 6, 2, 7, 2, 1, 2, 3, 7, 1, 3, 1, 5, 5, 3, 1, 8, 9, 1, 3, 4, 2, 9, 1, 2, 3, 1, 2, 3, 3, 2, 2, 1, 2, 1, 5, 3, 9, 3, 8, 8, 9, 1, 3, 3, 4, 0, 6, 0, 0, 4, 3, 4, 8, 4, 8, 3, 2, 4, 1, 9, 3, 1, 2, 1, 4, 2, 7, 4, 1, 9, 3, 0, 5, 4, 4, 1, 7, 2, 0, 2, 4, 0, 8, 0, 1, 3, 4, 3, 2, 9, 2, 1, 9, 3, 1, 6, 2, 0, 4, 4, 7, 5, 2, 6, 4, 1, 9, 1, 2, 5, 9, 3, 9, 2, 4, 4]\n"
          ]
        }
      ]
    },
    {
      "cell_type": "markdown",
      "source": [
        "##Model Training keeping the base_model as non trainable"
      ],
      "metadata": {
        "id": "TBkfBoqShDLv"
      }
    },
    {
      "cell_type": "code",
      "source": [
        "from keras.callbacks import ModelCheckpoint\n",
        "checkpoint = ModelCheckpoint(\"/model-{epoch:03d}-{accuracy:03f}-{val_accuracy:03f}.h5\", verbose=1, monitor='val_loss',save_best_only=True, mode='auto') \n",
        "\n",
        "history=model.fit(x=train_gen,  epochs=3, verbose=2, validation_data=valid_gen, callbacks=[checkpoint],\n",
        "               validation_steps=None,  shuffle=False,  initial_epoch=0)\n"
      ],
      "metadata": {
        "colab": {
          "base_uri": "https://localhost:8080/"
        },
        "id": "QDuhQlO9ZY4u",
        "outputId": "8e90c699-65a9-42bc-dce7-0fb195678928"
      },
      "execution_count": 12,
      "outputs": [
        {
          "output_type": "stream",
          "name": "stdout",
          "text": [
            "Epoch 1/3\n",
            "\n",
            "Epoch 1: val_loss improved from inf to 2.86214, saving model to /model-001-0.382027-0.411090.h5\n",
            "77/77 - 918s - loss: 8.9739 - accuracy: 0.3820 - val_loss: 2.8621 - val_accuracy: 0.4111 - 918s/epoch - 12s/step\n",
            "Epoch 2/3\n",
            "\n",
            "Epoch 2: val_loss improved from 2.86214 to 2.31078, saving model to /model-002-0.448913-0.491396.h5\n",
            "77/77 - 80s - loss: 2.5092 - accuracy: 0.4489 - val_loss: 2.3108 - val_accuracy: 0.4914 - 80s/epoch - 1s/step\n",
            "Epoch 3/3\n",
            "\n",
            "Epoch 3: val_loss improved from 2.31078 to 2.09154, saving model to /model-003-0.491178-0.478011.h5\n",
            "77/77 - 78s - loss: 2.1719 - accuracy: 0.4912 - val_loss: 2.0915 - val_accuracy: 0.4780 - 78s/epoch - 1s/step\n"
          ]
        }
      ]
    },
    {
      "cell_type": "code",
      "source": [
        "epochs = 3\n",
        "base_model.trainable=True\n",
        "fine_tune_epochs= 2\n",
        "total_epochs=epochs + fine_tune_epochs\n",
        "\n",
        "model.compile(Adamax(learning_rate=lr/10), loss='categorical_crossentropy', metrics=['accuracy'])\n",
        "model.summary()"
      ],
      "metadata": {
        "colab": {
          "base_uri": "https://localhost:8080/"
        },
        "id": "w8F5FwBwaBPP",
        "outputId": "959a0af9-5131-4f29-9029-257c73ee2619"
      },
      "execution_count": 13,
      "outputs": [
        {
          "output_type": "stream",
          "name": "stdout",
          "text": [
            "Model: \"model\"\n",
            "_________________________________________________________________\n",
            " Layer (type)                Output Shape              Param #   \n",
            "=================================================================\n",
            " input_2 (InputLayer)        [(None, 224, 224, 3)]     0         \n",
            "                                                                 \n",
            " resnet50 (Functional)       (None, 2048)              23587712  \n",
            "                                                                 \n",
            " dense (Dense)               (None, 2048)              4196352   \n",
            "                                                                 \n",
            " dense_1 (Dense)             (None, 10)                20490     \n",
            "                                                                 \n",
            "=================================================================\n",
            "Total params: 27,804,554\n",
            "Trainable params: 27,751,434\n",
            "Non-trainable params: 53,120\n",
            "_________________________________________________________________\n"
          ]
        }
      ]
    },
    {
      "cell_type": "code",
      "source": [
        "history_fine = model.fit(x=train_gen,  epochs=total_epochs, verbose=2, validation_data=valid_gen,\n",
        "               validation_steps=None,  shuffle=False,  initial_epoch=epochs)"
      ],
      "metadata": {
        "colab": {
          "base_uri": "https://localhost:8080/"
        },
        "id": "6tURsvfwaBRZ",
        "outputId": "5c3cc5d7-f986-40c7-9c94-d3335a62116a"
      },
      "execution_count": 14,
      "outputs": [
        {
          "output_type": "stream",
          "name": "stdout",
          "text": [
            "Epoch 4/5\n",
            "77/77 - 114s - loss: 2.4134 - accuracy: 0.3250 - val_loss: 2.0360 - val_accuracy: 0.4054 - 114s/epoch - 1s/step\n",
            "Epoch 5/5\n",
            "77/77 - 86s - loss: 1.9140 - accuracy: 0.4661 - val_loss: 1.8899 - val_accuracy: 0.4551 - 86s/epoch - 1s/step\n"
          ]
        }
      ]
    },
    {
      "cell_type": "code",
      "source": [
        "model.evaluate( test_gen, batch_size=test_batch_size, verbose=1, steps=test_steps, return_dict=True)"
      ],
      "metadata": {
        "colab": {
          "base_uri": "https://localhost:8080/"
        },
        "id": "BTDe9RM0mnfZ",
        "outputId": "f5d58ab9-9b9b-426d-ff44-a6a7b899c9a9"
      },
      "execution_count": 15,
      "outputs": [
        {
          "output_type": "stream",
          "name": "stdout",
          "text": [
            "18/18 [==============================] - 122s 7s/step - loss: 1.8918 - accuracy: 0.4444\n"
          ]
        },
        {
          "output_type": "execute_result",
          "data": {
            "text/plain": [
              "{'accuracy': 0.4444444477558136, 'loss': 1.8917964696884155}"
            ]
          },
          "metadata": {},
          "execution_count": 15
        }
      ]
    },
    {
      "cell_type": "code",
      "source": [
        "y_pred = model.predict(test_gen)\n",
        "y_pred = np.argmax(y_pred, axis=1)\n",
        "print(y_pred)\n"
      ],
      "metadata": {
        "colab": {
          "base_uri": "https://localhost:8080/"
        },
        "id": "HX98RAJ7aBUW",
        "outputId": "cc5950ef-86fa-4313-da9f-ab11f0631f5c"
      },
      "execution_count": 16,
      "outputs": [
        {
          "output_type": "stream",
          "name": "stdout",
          "text": [
            "[1 1 3 3 5 3 3 1 1 1 0 1 1 3 3 1 3 4 1 4 4 2 1 3 3 0 4 1 3 3 0 0 3 3 1 3 3\n",
            " 1 3 1 3 3 3 0 4 2 3 0 3 3 1 3 1 2 3 5 4 5 3 3 0 0 2 1 3 3 3 3 3 4 2 5 3 3\n",
            " 3 1 9 0 1 1 1 1 3 1 4 3 1 3 3 0 5 1 3 0 4 1 3 6 4 3 0 1 3 5 1 5 3 0 2 3 0\n",
            " 1 3 1 1 0 5 1 5 1 0 3 3 5 0 3 5 0 5 3 1 1 9 3 3 3 2 3 3 1 3 1 3 2 3 0 1 1\n",
            " 1 3 1 4 1 3 0 3 3 3 9 1 3 3 3 3 5 3 3 3 1 3 3 1 1 1 1 3 3 3 3 5 3 9 0 3 1\n",
            " 3 0 0 0 1 1 3 3 3 3 2 6 3 2 6 3 3 2 3 9 3 3 0 1 3 0 1 4 3 2 2 3 3 0 3 1 0\n",
            " 3 1 4 3 3 3 3 6 3 3 3 1 1 3 2 3 0 1 3 1 0 3 3 4 1 1 1 1 3 3 4 3 1 1 3 1 1\n",
            " 3 3 1 3 3 5 0 3 3 3 6 3 1 2 3 0 2 3 3 0 3 1 3 3 0 0 1 3 3 6 3 1 5 6 4 3 4\n",
            " 3 1 3 4 2 3 6 0 1 1 3 1 3 1 1 4 1 3 3 9 3 5 3 3 1 1 1 3 0 0 3 6 3 3 3 1 3\n",
            " 0 3 3 1 1 1 1 3 1 3 3 2 0 5 2 3 3 3 3 4 3 1 4 3 3 1 1 0 3 3 1 0 3 3 3 2 4\n",
            " 3 1 3 1 3 3 3 3 3 9 3 3 3 2 3 3 0 1 1 3 3 5 3 1 3 3 1 3 3 3 1 3 3 1 0 3 1\n",
            " 2 4 3 1 4 3 3 1 3 4 9 5 3 1 3 3 1 3 1 1 9 1 2 3 1 2 3 3 2 2 1 3 1 0 3 9 3\n",
            " 3 4 9 1 3 3 3 0 1 0 0 3 3 3 9 3 3 3 2 3 1 3 3 1 2 1 3 3 1 3 1 5 3 0 5 3 3\n",
            " 3 3 1 0 1 3 0 4 0 1 3 1 3 2 3 2 1 3 3 4 1 3 0 3 3 3 0 0 1 3 1 5 1 2 5 4 3\n",
            " 3 2 3 3]\n"
          ]
        }
      ]
    },
    {
      "cell_type": "code",
      "source": [
        "y_true=test_gen.classes\n",
        "print(y_true)"
      ],
      "metadata": {
        "colab": {
          "base_uri": "https://localhost:8080/"
        },
        "id": "7cWQ_MeRfP9E",
        "outputId": "e0a9384a-1794-4de0-836e-fc2bd8bf825e"
      },
      "execution_count": 17,
      "outputs": [
        {
          "output_type": "stream",
          "name": "stdout",
          "text": [
            "[1, 1, 3, 4, 5, 3, 4, 4, 1, 1, 0, 1, 6, 7, 3, 1, 3, 2, 1, 1, 9, 2, 1, 4, 4, 0, 2, 1, 4, 7, 0, 0, 7, 4, 1, 3, 4, 1, 3, 1, 4, 9, 1, 0, 4, 2, 2, 0, 3, 3, 1, 3, 3, 4, 4, 5, 6, 2, 3, 7, 0, 0, 2, 1, 4, 4, 3, 3, 9, 7, 2, 9, 4, 8, 3, 1, 7, 5, 4, 1, 4, 1, 0, 1, 3, 8, 6, 3, 4, 0, 9, 6, 2, 0, 4, 1, 3, 6, 6, 3, 0, 1, 4, 9, 9, 2, 7, 2, 2, 1, 0, 6, 4, 3, 1, 9, 5, 1, 5, 1, 0, 6, 3, 5, 0, 4, 9, 5, 5, 4, 6, 6, 7, 4, 3, 5, 2, 4, 4, 9, 4, 4, 8, 2, 4, 0, 1, 1, 1, 3, 1, 2, 1, 3, 0, 2, 4, 4, 4, 6, 2, 3, 4, 4, 6, 4, 1, 9, 1, 3, 4, 9, 1, 4, 1, 4, 2, 3, 9, 2, 3, 9, 5, 8, 3, 2, 0, 0, 2, 3, 6, 9, 4, 4, 9, 2, 3, 2, 2, 6, 1, 4, 2, 9, 9, 8, 3, 2, 1, 3, 0, 1, 3, 7, 4, 8, 3, 9, 5, 2, 1, 0, 4, 3, 4, 3, 1, 3, 4, 6, 4, 3, 7, 6, 3, 3, 2, 2, 6, 4, 4, 4, 2, 4, 4, 6, 1, 5, 1, 1, 3, 8, 7, 2, 3, 1, 3, 6, 1, 4, 3, 7, 4, 4, 9, 5, 9, 4, 3, 3, 6, 1, 2, 4, 0, 2, 7, 4, 7, 3, 4, 3, 4, 5, 2, 6, 9, 2, 2, 4, 1, 4, 3, 1, 7, 8, 4, 1, 2, 7, 4, 6, 6, 0, 1, 1, 3, 1, 3, 1, 6, 4, 1, 4, 7, 7, 3, 5, 4, 4, 4, 1, 1, 4, 0, 2, 9, 3, 4, 6, 3, 1, 3, 0, 3, 4, 2, 1, 2, 3, 3, 3, 3, 8, 2, 5, 5, 2, 4, 9, 3, 7, 1, 1, 1, 8, 4, 4, 6, 3, 9, 2, 9, 1, 0, 2, 7, 4, 2, 9, 2, 1, 9, 1, 4, 2, 8, 3, 4, 9, 4, 9, 4, 2, 4, 3, 2, 1, 1, 3, 7, 9, 7, 1, 3, 4, 6, 4, 4, 3, 0, 4, 6, 8, 0, 7, 6, 2, 7, 2, 1, 2, 3, 7, 1, 3, 1, 5, 5, 3, 1, 8, 9, 1, 3, 4, 2, 9, 1, 2, 3, 1, 2, 3, 3, 2, 2, 1, 2, 1, 5, 3, 9, 3, 8, 8, 9, 1, 3, 3, 4, 0, 6, 0, 0, 4, 3, 4, 8, 4, 8, 3, 2, 4, 1, 9, 3, 1, 2, 1, 4, 2, 7, 4, 1, 9, 3, 0, 5, 4, 4, 1, 7, 2, 0, 2, 4, 0, 8, 0, 1, 3, 4, 3, 2, 9, 2, 1, 9, 3, 1, 6, 2, 0, 4, 4, 7, 5, 2, 6, 4, 1, 9, 1, 2, 5, 9, 3, 9, 2, 4, 4]\n"
          ]
        }
      ]
    },
    {
      "cell_type": "code",
      "source": [
        "from sklearn.metrics import classification_report\n",
        "print(classification_report(y_true, y_pred))"
      ],
      "metadata": {
        "colab": {
          "base_uri": "https://localhost:8080/"
        },
        "id": "KDJNto_RfQKk",
        "outputId": "a37a4561-e07b-43f8-f1c9-a4d280c3577e"
      },
      "execution_count": 19,
      "outputs": [
        {
          "output_type": "stream",
          "name": "stdout",
          "text": [
            "              precision    recall  f1-score   support\n",
            "\n",
            "           0       0.62      0.94      0.75        36\n",
            "           1       0.59      0.86      0.70        87\n",
            "           2       0.88      0.41      0.55        69\n",
            "           3       0.30      0.81      0.44        86\n",
            "           4       0.14      0.04      0.06       101\n",
            "           5       0.46      0.48      0.47        23\n",
            "           6       0.44      0.12      0.20        32\n",
            "           7       0.00      0.00      0.00        28\n",
            "           8       0.00      0.00      0.00        18\n",
            "           9       0.50      0.14      0.22        42\n",
            "\n",
            "    accuracy                           0.44       522\n",
            "   macro avg       0.39      0.38      0.34       522\n",
            "weighted avg       0.42      0.44      0.38       522\n",
            "\n"
          ]
        },
        {
          "output_type": "stream",
          "name": "stderr",
          "text": [
            "/usr/local/lib/python3.7/dist-packages/sklearn/metrics/_classification.py:1318: UndefinedMetricWarning: Precision and F-score are ill-defined and being set to 0.0 in labels with no predicted samples. Use `zero_division` parameter to control this behavior.\n",
            "  _warn_prf(average, modifier, msg_start, len(result))\n",
            "/usr/local/lib/python3.7/dist-packages/sklearn/metrics/_classification.py:1318: UndefinedMetricWarning: Precision and F-score are ill-defined and being set to 0.0 in labels with no predicted samples. Use `zero_division` parameter to control this behavior.\n",
            "  _warn_prf(average, modifier, msg_start, len(result))\n",
            "/usr/local/lib/python3.7/dist-packages/sklearn/metrics/_classification.py:1318: UndefinedMetricWarning: Precision and F-score are ill-defined and being set to 0.0 in labels with no predicted samples. Use `zero_division` parameter to control this behavior.\n",
            "  _warn_prf(average, modifier, msg_start, len(result))\n"
          ]
        }
      ]
    }
  ]
}