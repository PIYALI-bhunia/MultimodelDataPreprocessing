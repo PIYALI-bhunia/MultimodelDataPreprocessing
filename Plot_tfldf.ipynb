{
  "nbformat": 4,
  "nbformat_minor": 0,
  "metadata": {
    "colab": {
      "name": "Plot_tfldf.ipynb",
      "provenance": [],
      "include_colab_link": true
    },
    "kernelspec": {
      "name": "python3",
      "display_name": "Python 3"
    },
    "language_info": {
      "name": "python"
    }
  },
  "cells": [
    {
      "cell_type": "markdown",
      "metadata": {
        "id": "view-in-github",
        "colab_type": "text"
      },
      "source": [
        "<a href=\"https://colab.research.google.com/github/PIYALI-bhunia/MultimodelDataPreprocessing/blob/main/Plot_tfldf.ipynb\" target=\"_parent\"><img src=\"https://colab.research.google.com/assets/colab-badge.svg\" alt=\"Open In Colab\"/></a>"
      ]
    },
    {
      "cell_type": "code",
      "execution_count": 1,
      "metadata": {
        "colab": {
          "base_uri": "https://localhost:8080/",
          "height": 295
        },
        "id": "rxoGW78GRWar",
        "outputId": "a86692e0-4368-4abd-82c5-69d880a9cabb"
      },
      "outputs": [
        {
          "output_type": "display_data",
          "data": {
            "text/plain": [
              "<Figure size 576x288 with 1 Axes>"
            ],
            "image/png": "[encoded data removed]"
          },
          "metadata": {
            "needs_background": "light"
          }
        }
      ],
      "source": [
        "import numpy as np\n",
        "import matplotlib.pyplot as plt\n",
        " \n",
        "rf_accuracy = 74.46\n",
        "svm_accuracy = 48.92\n",
        "# ann_accuracy =  70\n",
        "  \n",
        "# creating the dataset\n",
        "data = {'Random Forest': rf_accuracy, 'SVM':svm_accuracy}\n",
        "\n",
        "\n",
        "models = list(data.keys())\n",
        "accuracy = list(data.values())\n",
        "  \n",
        "fig = plt.figure(figsize = (8, 4))\n",
        " \n",
        "# creating the bar plot\n",
        "plt.bar(models, accuracy , color ='maroon',\n",
        "        width = 0.3)\n",
        " \n",
        "plt.xlabel(\"models implemented\")\n",
        "plt.ylabel(\"accuracy\")\n",
        "plt.title(\"TFIDF - word embedding, (only Text modality)\")\n",
        "plt.show()"
      ]
    },
    {
      "cell_type": "code",
      "source": [
        "import pandas as pd\n",
        "from matplotlib import pyplot as plt\n",
        "\n",
        "models = ['random forest', 'SVM']\n",
        "accuracy = [74.46, 48.92]\n",
        " \n",
        "# Figure Size\n",
        "fig, ax = plt.subplots(figsize =(10, 5))\n",
        " \n",
        "# Horizontal Bar Plot\n",
        "ax.barh(models, accuracy)\n",
        " \n",
        "# Remove axes splines\n",
        "for s in ['top', 'bottom', 'left', 'right']:\n",
        "    ax.spines[s].set_visible(False)\n",
        " \n",
        "# Remove x, y Ticks\n",
        "ax.xaxis.set_ticks_position('none')\n",
        "ax.yaxis.set_ticks_position('none')\n",
        " \n",
        "# Add padding between axes and labels\n",
        "ax.xaxis.set_tick_params(pad = 5)\n",
        "ax.yaxis.set_tick_params(pad = 10)\n",
        " \n",
        "# Add x, y gridlines\n",
        "ax.grid(b = True, color ='grey',\n",
        "        linestyle ='-.', linewidth = 0.5,\n",
        "        alpha = 0.2)\n",
        " \n",
        "# Show top values\n",
        "ax.invert_yaxis()\n",
        " \n",
        "# Add annotation to bars\n",
        "for i in ax.patches:\n",
        "    plt.text(i.get_width()+0.2, i.get_y()+0.5,\n",
        "             str(round((i.get_width()), 2)),\n",
        "             fontsize = 10, fontweight ='bold',\n",
        "             color ='grey')\n",
        " \n",
        "# Add Plot Title\n",
        "ax.set_title('models vs their accuracy in %',\n",
        "             loc ='left', )\n",
        "# Show Plot\n",
        "plt.show()"
      ],
      "metadata": {
        "colab": {
          "base_uri": "https://localhost:8080/",
          "height": 337
        },
        "id": "pnycIdetSLcR",
        "outputId": "4b6bef3a-d663-49f7-c216-13efb06ab34f"
      },
      "execution_count": 2,
      "outputs": [
        {
          "output_type": "display_data",
          "data": {
            "text/plain": [
              "<Figure size 720x360 with 1 Axes>"
            ],
            "image/png": "[encoded data removed]"
          },
          "metadata": {
            "needs_background": "light"
          }
        }
      ]
    },
    {
      "cell_type": "code",
      "source": [
        ""
      ],
      "metadata": {
        "id": "Yvel8TRmVBmv"
      },
      "execution_count": null,
      "outputs": []
    }
  ]
}